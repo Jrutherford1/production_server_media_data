{
 "cells": [
  {
   "metadata": {},
   "cell_type": "markdown",
   "source": [
    "# URL Search for Production Server\n",
    "\n",
    "This notebook is designed to fetch and process URLs from a production WordPress server environment. It performs two main tasks:\n",
    "\n",
    "1. Retrieves multisite or primary site URLs from a WordPress database and saves them to a CSV file using the `fetch_multisite_or_primary_site_urls` function.\n",
    "\n",
    "2. Uses the generated site URLs to fetch media data for each site using the `fetch_media_data_per_site` function, storing the results in a designated output directory.\n",
    "\n",
    "The notebook connects to a WordPress database using specified configuration parameters and processes the URLs in a systematic way to gather media-related data from the production server.\n"
   ],
   "id": "545e3de58054fdff"
  },
  {
   "metadata": {},
   "cell_type": "markdown",
   "source": "This cell initializes and configures the database connection settings for accessing a WordPress database by defining the db_config dictionary with necessary credentials and parameters. The cell then calls the fetch_multisite_or_primary_site_urls() function to retrieve URLs from the WordPress database and save them to a CSV file named 'data/site_urls.csv'.\n",
   "id": "f27df6402d8a3cad"
  },
  {
   "metadata": {},
   "cell_type": "code",
   "source": [
    "from data_pipeline.get_prod_site_urls import fetch_multisite_or_primary_site_urls\n",
    "\n",
    "# Define db_config and output_csv_file\n",
    "db_config = {\n",
    "    'user': 'wordpress',\n",
    "    'password': 'wordpress',\n",
    "    'host': 'localhost',\n",
    "    'database': 'wordpress',\n",
    "    'port': 3306\n",
    "}\n",
    "\n",
    "output_csv_file = 'data/site_urls.csv'\n",
    "\n",
    "# Call the function with required arguments\n",
    "fetch_multisite_or_primary_site_urls(db_config, output_csv_file)"
   ],
   "id": "329b80b63848c620",
   "outputs": [],
   "execution_count": null
  },
  {
   "metadata": {},
   "cell_type": "code",
   "source": [
    "# In your Jupyter Notebook\n",
    "from data_pipeline.get_media_urls import fetch_media_data_per_site\n",
    "\n",
    "# Define the database configuration\n",
    "db_config = {\n",
    "    'user': 'wordpress',\n",
    "    'password': 'wordpress',\n",
    "    'host': 'localhost',\n",
    "    'database': 'wordpress',\n",
    "    'port': 3306,\n",
    "}\n",
    "\n",
    "# Path to your site_urls.csv file\n",
    "site_urls_csv = 'data/site_urls.csv'  # Adjust this path if needed\n",
    "\n",
    "# Output directory name\n",
    "output_dir_name = 'prod_site_media_csv_output'\n",
    "\n",
    "# Now call the function with these variables\n",
    "fetch_media_data_per_site(db_config, site_urls_csv, output_dir_name)"
   ],
   "id": "f2f10dfda1011e06",
   "outputs": [],
   "execution_count": null
  },
  {
   "metadata": {
    "ExecuteTime": {
     "end_time": "2025-05-15T20:03:57.811745Z",
     "start_time": "2025-05-15T20:03:41.467252Z"
    }
   },
   "cell_type": "code",
   "source": [
    "from data_pipeline.find_media_usage import find_media_usage\n",
    "\n",
    "db_config = {\n",
    "    'host': 'localhost',\n",
    "    'user': 'wordpress',\n",
    "    'password': 'wordpress',\n",
    "    'database': 'wordpress',\n",
    "    'port': 3306\n",
    "}\n",
    "\n",
    "find_media_usage(\n",
    "    db_config=db_config,\n",
    "    media_csv_path='data/prod_site_media_csv_output/ias_media_20.csv',\n",
    "    wp_table_name='scroll_20_posts',\n",
    "    output_csv_path='data/media_usage_output/ias_usage_20.csv'\n",
    ")"
   ],
   "id": "b2b2390264e3e1f5",
   "outputs": [
    {
     "name": "stdout",
     "output_type": "stream",
     "text": [
      "Finished. Found 293 media usage entries written to data/media_usage_output/ias_usage_20.csv.\n"
     ]
    }
   ],
   "execution_count": 3
  }
 ],
 "metadata": {
  "kernelspec": {
   "display_name": "Python 3",
   "language": "python",
   "name": "python3"
  },
  "language_info": {
   "codemirror_mode": {
    "name": "ipython",
    "version": 2
   },
   "file_extension": ".py",
   "mimetype": "text/x-python",
   "name": "python",
   "nbconvert_exporter": "python",
   "pygments_lexer": "ipython2",
   "version": "2.7.6"
  }
 },
 "nbformat": 4,
 "nbformat_minor": 5
}
